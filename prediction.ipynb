{
 "cells": [
  {
   "cell_type": "code",
   "execution_count": 1,
   "id": "superior-december",
   "metadata": {},
   "outputs": [],
   "source": [
    "import pandas as pd\n",
    "import numpy as np\n",
    "import matplotlib.pyplot as plt\n",
    "import seaborn as sbn"
   ]
  },
  {
   "cell_type": "code",
   "execution_count": 2,
   "id": "upper-philadelphia",
   "metadata": {},
   "outputs": [],
   "source": [
    "audiData = pd.read_csv(\"audi.csv\")"
   ]
  },
  {
   "cell_type": "code",
   "execution_count": 3,
   "id": "dried-socket",
   "metadata": {},
   "outputs": [
    {
     "data": {
      "text/html": [
       "<div>\n",
       "<style scoped>\n",
       "    .dataframe tbody tr th:only-of-type {\n",
       "        vertical-align: middle;\n",
       "    }\n",
       "\n",
       "    .dataframe tbody tr th {\n",
       "        vertical-align: top;\n",
       "    }\n",
       "\n",
       "    .dataframe thead th {\n",
       "        text-align: right;\n",
       "    }\n",
       "</style>\n",
       "<table border=\"1\" class=\"dataframe\">\n",
       "  <thead>\n",
       "    <tr style=\"text-align: right;\">\n",
       "      <th></th>\n",
       "      <th>model</th>\n",
       "      <th>year</th>\n",
       "      <th>price</th>\n",
       "      <th>transmission</th>\n",
       "      <th>mileage</th>\n",
       "      <th>fuelType</th>\n",
       "      <th>tax</th>\n",
       "      <th>mpg</th>\n",
       "      <th>engineSize</th>\n",
       "    </tr>\n",
       "  </thead>\n",
       "  <tbody>\n",
       "    <tr>\n",
       "      <th>0</th>\n",
       "      <td>A1</td>\n",
       "      <td>2017</td>\n",
       "      <td>12500</td>\n",
       "      <td>Manual</td>\n",
       "      <td>15735</td>\n",
       "      <td>Petrol</td>\n",
       "      <td>150</td>\n",
       "      <td>55.4</td>\n",
       "      <td>1.4</td>\n",
       "    </tr>\n",
       "    <tr>\n",
       "      <th>1</th>\n",
       "      <td>A6</td>\n",
       "      <td>2016</td>\n",
       "      <td>16500</td>\n",
       "      <td>Automatic</td>\n",
       "      <td>36203</td>\n",
       "      <td>Diesel</td>\n",
       "      <td>20</td>\n",
       "      <td>64.2</td>\n",
       "      <td>2.0</td>\n",
       "    </tr>\n",
       "    <tr>\n",
       "      <th>2</th>\n",
       "      <td>A1</td>\n",
       "      <td>2016</td>\n",
       "      <td>11000</td>\n",
       "      <td>Manual</td>\n",
       "      <td>29946</td>\n",
       "      <td>Petrol</td>\n",
       "      <td>30</td>\n",
       "      <td>55.4</td>\n",
       "      <td>1.4</td>\n",
       "    </tr>\n",
       "    <tr>\n",
       "      <th>3</th>\n",
       "      <td>A4</td>\n",
       "      <td>2017</td>\n",
       "      <td>16800</td>\n",
       "      <td>Automatic</td>\n",
       "      <td>25952</td>\n",
       "      <td>Diesel</td>\n",
       "      <td>145</td>\n",
       "      <td>67.3</td>\n",
       "      <td>2.0</td>\n",
       "    </tr>\n",
       "    <tr>\n",
       "      <th>4</th>\n",
       "      <td>A3</td>\n",
       "      <td>2019</td>\n",
       "      <td>17300</td>\n",
       "      <td>Manual</td>\n",
       "      <td>1998</td>\n",
       "      <td>Petrol</td>\n",
       "      <td>145</td>\n",
       "      <td>49.6</td>\n",
       "      <td>1.0</td>\n",
       "    </tr>\n",
       "  </tbody>\n",
       "</table>\n",
       "</div>"
      ],
      "text/plain": [
       "  model  year  price transmission  mileage fuelType  tax   mpg  engineSize\n",
       "0    A1  2017  12500       Manual    15735   Petrol  150  55.4         1.4\n",
       "1    A6  2016  16500    Automatic    36203   Diesel   20  64.2         2.0\n",
       "2    A1  2016  11000       Manual    29946   Petrol   30  55.4         1.4\n",
       "3    A4  2017  16800    Automatic    25952   Diesel  145  67.3         2.0\n",
       "4    A3  2019  17300       Manual     1998   Petrol  145  49.6         1.0"
      ]
     },
     "execution_count": 3,
     "metadata": {},
     "output_type": "execute_result"
    }
   ],
   "source": [
    "audiData.head()"
   ]
  },
  {
   "cell_type": "code",
   "execution_count": 4,
   "id": "periodic-nudist",
   "metadata": {},
   "outputs": [
    {
     "data": {
      "text/html": [
       "<div>\n",
       "<style scoped>\n",
       "    .dataframe tbody tr th:only-of-type {\n",
       "        vertical-align: middle;\n",
       "    }\n",
       "\n",
       "    .dataframe tbody tr th {\n",
       "        vertical-align: top;\n",
       "    }\n",
       "\n",
       "    .dataframe thead th {\n",
       "        text-align: right;\n",
       "    }\n",
       "</style>\n",
       "<table border=\"1\" class=\"dataframe\">\n",
       "  <thead>\n",
       "    <tr style=\"text-align: right;\">\n",
       "      <th></th>\n",
       "      <th>year</th>\n",
       "      <th>price</th>\n",
       "      <th>mileage</th>\n",
       "      <th>tax</th>\n",
       "      <th>mpg</th>\n",
       "      <th>engineSize</th>\n",
       "    </tr>\n",
       "  </thead>\n",
       "  <tbody>\n",
       "    <tr>\n",
       "      <th>count</th>\n",
       "      <td>10668.000000</td>\n",
       "      <td>10668.000000</td>\n",
       "      <td>10668.000000</td>\n",
       "      <td>10668.000000</td>\n",
       "      <td>10668.000000</td>\n",
       "      <td>10668.000000</td>\n",
       "    </tr>\n",
       "    <tr>\n",
       "      <th>mean</th>\n",
       "      <td>2017.100675</td>\n",
       "      <td>22896.685039</td>\n",
       "      <td>24827.244001</td>\n",
       "      <td>126.011436</td>\n",
       "      <td>50.770022</td>\n",
       "      <td>1.930709</td>\n",
       "    </tr>\n",
       "    <tr>\n",
       "      <th>std</th>\n",
       "      <td>2.167494</td>\n",
       "      <td>11714.841888</td>\n",
       "      <td>23505.257205</td>\n",
       "      <td>67.170294</td>\n",
       "      <td>12.949782</td>\n",
       "      <td>0.602957</td>\n",
       "    </tr>\n",
       "    <tr>\n",
       "      <th>min</th>\n",
       "      <td>1997.000000</td>\n",
       "      <td>1490.000000</td>\n",
       "      <td>1.000000</td>\n",
       "      <td>0.000000</td>\n",
       "      <td>18.900000</td>\n",
       "      <td>0.000000</td>\n",
       "    </tr>\n",
       "    <tr>\n",
       "      <th>25%</th>\n",
       "      <td>2016.000000</td>\n",
       "      <td>15130.750000</td>\n",
       "      <td>5968.750000</td>\n",
       "      <td>125.000000</td>\n",
       "      <td>40.900000</td>\n",
       "      <td>1.500000</td>\n",
       "    </tr>\n",
       "    <tr>\n",
       "      <th>50%</th>\n",
       "      <td>2017.000000</td>\n",
       "      <td>20200.000000</td>\n",
       "      <td>19000.000000</td>\n",
       "      <td>145.000000</td>\n",
       "      <td>49.600000</td>\n",
       "      <td>2.000000</td>\n",
       "    </tr>\n",
       "    <tr>\n",
       "      <th>75%</th>\n",
       "      <td>2019.000000</td>\n",
       "      <td>27990.000000</td>\n",
       "      <td>36464.500000</td>\n",
       "      <td>145.000000</td>\n",
       "      <td>58.900000</td>\n",
       "      <td>2.000000</td>\n",
       "    </tr>\n",
       "    <tr>\n",
       "      <th>max</th>\n",
       "      <td>2020.000000</td>\n",
       "      <td>145000.000000</td>\n",
       "      <td>323000.000000</td>\n",
       "      <td>580.000000</td>\n",
       "      <td>188.300000</td>\n",
       "      <td>6.300000</td>\n",
       "    </tr>\n",
       "  </tbody>\n",
       "</table>\n",
       "</div>"
      ],
      "text/plain": [
       "               year          price        mileage           tax           mpg  \\\n",
       "count  10668.000000   10668.000000   10668.000000  10668.000000  10668.000000   \n",
       "mean    2017.100675   22896.685039   24827.244001    126.011436     50.770022   \n",
       "std        2.167494   11714.841888   23505.257205     67.170294     12.949782   \n",
       "min     1997.000000    1490.000000       1.000000      0.000000     18.900000   \n",
       "25%     2016.000000   15130.750000    5968.750000    125.000000     40.900000   \n",
       "50%     2017.000000   20200.000000   19000.000000    145.000000     49.600000   \n",
       "75%     2019.000000   27990.000000   36464.500000    145.000000     58.900000   \n",
       "max     2020.000000  145000.000000  323000.000000    580.000000    188.300000   \n",
       "\n",
       "         engineSize  \n",
       "count  10668.000000  \n",
       "mean       1.930709  \n",
       "std        0.602957  \n",
       "min        0.000000  \n",
       "25%        1.500000  \n",
       "50%        2.000000  \n",
       "75%        2.000000  \n",
       "max        6.300000  "
      ]
     },
     "execution_count": 4,
     "metadata": {},
     "output_type": "execute_result"
    }
   ],
   "source": [
    "audiData.describe()"
   ]
  },
  {
   "cell_type": "code",
   "execution_count": 5,
   "id": "brief-tribune",
   "metadata": {},
   "outputs": [
    {
     "data": {
      "text/plain": [
       "model           0\n",
       "year            0\n",
       "price           0\n",
       "transmission    0\n",
       "mileage         0\n",
       "fuelType        0\n",
       "tax             0\n",
       "mpg             0\n",
       "engineSize      0\n",
       "dtype: int64"
      ]
     },
     "execution_count": 5,
     "metadata": {},
     "output_type": "execute_result"
    }
   ],
   "source": [
    "audiData.isnull().sum()"
   ]
  },
  {
   "cell_type": "code",
   "execution_count": 6,
   "id": "stupid-moore",
   "metadata": {},
   "outputs": [
    {
     "name": "stderr",
     "output_type": "stream",
     "text": [
      "C:\\Users\\ozerr\\anaconda3\\envs\\tf_gpu\\lib\\site-packages\\seaborn\\distributions.py:2557: FutureWarning: `distplot` is a deprecated function and will be removed in a future version. Please adapt your code to use either `displot` (a figure-level function with similar flexibility) or `histplot` (an axes-level function for histograms).\n",
      "  warnings.warn(msg, FutureWarning)\n"
     ]
    },
    {
     "data": {
      "text/plain": [
       "<AxesSubplot:xlabel='price', ylabel='Density'>"
      ]
     },
     "execution_count": 6,
     "metadata": {},
     "output_type": "execute_result"
    },
    {
     "data": {
      "image/png": "[encoded data removed]",
      "text/plain": [
       "<Figure size 504x360 with 1 Axes>"
      ]
     },
     "metadata": {
      "needs_background": "light"
     },
     "output_type": "display_data"
    }
   ],
   "source": [
    "plt.figure(figsize = (7,5))\n",
    "sbn.distplot(audiData[\"price\"])"
   ]
  },
  {
   "cell_type": "code",
   "execution_count": 7,
   "id": "severe-cowboy",
   "metadata": {},
   "outputs": [
    {
     "name": "stderr",
     "output_type": "stream",
     "text": [
      "C:\\Users\\ozerr\\anaconda3\\envs\\tf_gpu\\lib\\site-packages\\seaborn\\_decorators.py:36: FutureWarning: Pass the following variable as a keyword arg: x. From version 0.12, the only valid positional argument will be `data`, and passing other arguments without an explicit keyword will result in an error or misinterpretation.\n",
      "  warnings.warn(\n"
     ]
    },
    {
     "data": {
      "text/plain": [
       "<AxesSubplot:xlabel='year', ylabel='count'>"
      ]
     },
     "execution_count": 7,
     "metadata": {},
     "output_type": "execute_result"
    },
    {
     "data": {
      "image/png": "[encoded data removed]",
      "text/plain": [
       "<Figure size 432x288 with 1 Axes>"
      ]
     },
     "metadata": {
      "needs_background": "light"
     },
     "output_type": "display_data"
    }
   ],
   "source": [
    "sbn.countplot(audiData[\"year\"])"
   ]
  },
  {
   "cell_type": "code",
   "execution_count": 8,
   "id": "numerical-indicator",
   "metadata": {},
   "outputs": [
    {
     "data": {
      "text/html": [
       "<div>\n",
       "<style scoped>\n",
       "    .dataframe tbody tr th:only-of-type {\n",
       "        vertical-align: middle;\n",
       "    }\n",
       "\n",
       "    .dataframe tbody tr th {\n",
       "        vertical-align: top;\n",
       "    }\n",
       "\n",
       "    .dataframe thead th {\n",
       "        text-align: right;\n",
       "    }\n",
       "</style>\n",
       "<table border=\"1\" class=\"dataframe\">\n",
       "  <thead>\n",
       "    <tr style=\"text-align: right;\">\n",
       "      <th></th>\n",
       "      <th>year</th>\n",
       "      <th>price</th>\n",
       "      <th>mileage</th>\n",
       "      <th>tax</th>\n",
       "      <th>mpg</th>\n",
       "      <th>engineSize</th>\n",
       "    </tr>\n",
       "  </thead>\n",
       "  <tbody>\n",
       "    <tr>\n",
       "      <th>year</th>\n",
       "      <td>1.000000</td>\n",
       "      <td>0.592581</td>\n",
       "      <td>-0.789667</td>\n",
       "      <td>0.093066</td>\n",
       "      <td>-0.351281</td>\n",
       "      <td>-0.031582</td>\n",
       "    </tr>\n",
       "    <tr>\n",
       "      <th>price</th>\n",
       "      <td>0.592581</td>\n",
       "      <td>1.000000</td>\n",
       "      <td>-0.535357</td>\n",
       "      <td>0.356157</td>\n",
       "      <td>-0.600334</td>\n",
       "      <td>0.591262</td>\n",
       "    </tr>\n",
       "    <tr>\n",
       "      <th>mileage</th>\n",
       "      <td>-0.789667</td>\n",
       "      <td>-0.535357</td>\n",
       "      <td>1.000000</td>\n",
       "      <td>-0.166547</td>\n",
       "      <td>0.395103</td>\n",
       "      <td>0.070710</td>\n",
       "    </tr>\n",
       "    <tr>\n",
       "      <th>tax</th>\n",
       "      <td>0.093066</td>\n",
       "      <td>0.356157</td>\n",
       "      <td>-0.166547</td>\n",
       "      <td>1.000000</td>\n",
       "      <td>-0.635909</td>\n",
       "      <td>0.393075</td>\n",
       "    </tr>\n",
       "    <tr>\n",
       "      <th>mpg</th>\n",
       "      <td>-0.351281</td>\n",
       "      <td>-0.600334</td>\n",
       "      <td>0.395103</td>\n",
       "      <td>-0.635909</td>\n",
       "      <td>1.000000</td>\n",
       "      <td>-0.365621</td>\n",
       "    </tr>\n",
       "    <tr>\n",
       "      <th>engineSize</th>\n",
       "      <td>-0.031582</td>\n",
       "      <td>0.591262</td>\n",
       "      <td>0.070710</td>\n",
       "      <td>0.393075</td>\n",
       "      <td>-0.365621</td>\n",
       "      <td>1.000000</td>\n",
       "    </tr>\n",
       "  </tbody>\n",
       "</table>\n",
       "</div>"
      ],
      "text/plain": [
       "                year     price   mileage       tax       mpg  engineSize\n",
       "year        1.000000  0.592581 -0.789667  0.093066 -0.351281   -0.031582\n",
       "price       0.592581  1.000000 -0.535357  0.356157 -0.600334    0.591262\n",
       "mileage    -0.789667 -0.535357  1.000000 -0.166547  0.395103    0.070710\n",
       "tax         0.093066  0.356157 -0.166547  1.000000 -0.635909    0.393075\n",
       "mpg        -0.351281 -0.600334  0.395103 -0.635909  1.000000   -0.365621\n",
       "engineSize -0.031582  0.591262  0.070710  0.393075 -0.365621    1.000000"
      ]
     },
     "execution_count": 8,
     "metadata": {},
     "output_type": "execute_result"
    }
   ],
   "source": [
    "audiData.corr()"
   ]
  },
  {
   "cell_type": "code",
   "execution_count": 9,
   "id": "liquid-playlist",
   "metadata": {},
   "outputs": [
    {
     "data": {
      "text/plain": [
       "mpg          -0.600334\n",
       "mileage      -0.535357\n",
       "tax           0.356157\n",
       "engineSize    0.591262\n",
       "year          0.592581\n",
       "price         1.000000\n",
       "Name: price, dtype: float64"
      ]
     },
     "execution_count": 9,
     "metadata": {},
     "output_type": "execute_result"
    }
   ],
   "source": [
    "audiData.corr()[\"price\"].sort_values()"
   ]
  },
  {
   "cell_type": "code",
   "execution_count": 10,
   "id": "frozen-cache",
   "metadata": {},
   "outputs": [
    {
     "data": {
      "text/plain": [
       "106.68"
      ]
     },
     "execution_count": 10,
     "metadata": {},
     "output_type": "execute_result"
    }
   ],
   "source": [
    "len(audiData) * 0.01"
   ]
  },
  {
   "cell_type": "code",
   "execution_count": 11,
   "id": "considered-beauty",
   "metadata": {},
   "outputs": [],
   "source": [
    "cleanData = audiData.sort_values(\"price\", ascending = False).iloc[90:]"
   ]
  },
  {
   "cell_type": "code",
   "execution_count": 12,
   "id": "historic-candidate",
   "metadata": {},
   "outputs": [
    {
     "data": {
      "text/html": [
       "<div>\n",
       "<style scoped>\n",
       "    .dataframe tbody tr th:only-of-type {\n",
       "        vertical-align: middle;\n",
       "    }\n",
       "\n",
       "    .dataframe tbody tr th {\n",
       "        vertical-align: top;\n",
       "    }\n",
       "\n",
       "    .dataframe thead th {\n",
       "        text-align: right;\n",
       "    }\n",
       "</style>\n",
       "<table border=\"1\" class=\"dataframe\">\n",
       "  <thead>\n",
       "    <tr style=\"text-align: right;\">\n",
       "      <th></th>\n",
       "      <th>year</th>\n",
       "      <th>price</th>\n",
       "      <th>mileage</th>\n",
       "      <th>tax</th>\n",
       "      <th>mpg</th>\n",
       "      <th>engineSize</th>\n",
       "    </tr>\n",
       "  </thead>\n",
       "  <tbody>\n",
       "    <tr>\n",
       "      <th>count</th>\n",
       "      <td>10578.000000</td>\n",
       "      <td>10578.000000</td>\n",
       "      <td>10578.000000</td>\n",
       "      <td>10578.000000</td>\n",
       "      <td>10578.000000</td>\n",
       "      <td>10578.000000</td>\n",
       "    </tr>\n",
       "    <tr>\n",
       "      <th>mean</th>\n",
       "      <td>2017.082624</td>\n",
       "      <td>22389.867839</td>\n",
       "      <td>24989.358102</td>\n",
       "      <td>125.760541</td>\n",
       "      <td>50.951361</td>\n",
       "      <td>1.914606</td>\n",
       "    </tr>\n",
       "    <tr>\n",
       "      <th>std</th>\n",
       "      <td>2.166419</td>\n",
       "      <td>10182.607263</td>\n",
       "      <td>23532.885791</td>\n",
       "      <td>67.152934</td>\n",
       "      <td>12.846417</td>\n",
       "      <td>0.574098</td>\n",
       "    </tr>\n",
       "    <tr>\n",
       "      <th>min</th>\n",
       "      <td>1997.000000</td>\n",
       "      <td>1490.000000</td>\n",
       "      <td>5.000000</td>\n",
       "      <td>0.000000</td>\n",
       "      <td>18.900000</td>\n",
       "      <td>0.000000</td>\n",
       "    </tr>\n",
       "    <tr>\n",
       "      <th>25%</th>\n",
       "      <td>2016.000000</td>\n",
       "      <td>15000.000000</td>\n",
       "      <td>6000.000000</td>\n",
       "      <td>125.000000</td>\n",
       "      <td>40.900000</td>\n",
       "      <td>1.500000</td>\n",
       "    </tr>\n",
       "    <tr>\n",
       "      <th>50%</th>\n",
       "      <td>2017.000000</td>\n",
       "      <td>20000.000000</td>\n",
       "      <td>19268.000000</td>\n",
       "      <td>145.000000</td>\n",
       "      <td>49.600000</td>\n",
       "      <td>2.000000</td>\n",
       "    </tr>\n",
       "    <tr>\n",
       "      <th>75%</th>\n",
       "      <td>2019.000000</td>\n",
       "      <td>27888.000000</td>\n",
       "      <td>36702.250000</td>\n",
       "      <td>145.000000</td>\n",
       "      <td>58.900000</td>\n",
       "      <td>2.000000</td>\n",
       "    </tr>\n",
       "    <tr>\n",
       "      <th>max</th>\n",
       "      <td>2020.000000</td>\n",
       "      <td>61990.000000</td>\n",
       "      <td>323000.000000</td>\n",
       "      <td>580.000000</td>\n",
       "      <td>188.300000</td>\n",
       "      <td>6.300000</td>\n",
       "    </tr>\n",
       "  </tbody>\n",
       "</table>\n",
       "</div>"
      ],
      "text/plain": [
       "               year         price        mileage           tax           mpg  \\\n",
       "count  10578.000000  10578.000000   10578.000000  10578.000000  10578.000000   \n",
       "mean    2017.082624  22389.867839   24989.358102    125.760541     50.951361   \n",
       "std        2.166419  10182.607263   23532.885791     67.152934     12.846417   \n",
       "min     1997.000000   1490.000000       5.000000      0.000000     18.900000   \n",
       "25%     2016.000000  15000.000000    6000.000000    125.000000     40.900000   \n",
       "50%     2017.000000  20000.000000   19268.000000    145.000000     49.600000   \n",
       "75%     2019.000000  27888.000000   36702.250000    145.000000     58.900000   \n",
       "max     2020.000000  61990.000000  323000.000000    580.000000    188.300000   \n",
       "\n",
       "         engineSize  \n",
       "count  10578.000000  \n",
       "mean       1.914606  \n",
       "std        0.574098  \n",
       "min        0.000000  \n",
       "25%        1.500000  \n",
       "50%        2.000000  \n",
       "75%        2.000000  \n",
       "max        6.300000  "
      ]
     },
     "execution_count": 12,
     "metadata": {},
     "output_type": "execute_result"
    }
   ],
   "source": [
    "cleanData.describe()"
   ]
  },
  {
   "cell_type": "code",
   "execution_count": 13,
   "id": "grateful-advocate",
   "metadata": {},
   "outputs": [
    {
     "name": "stderr",
     "output_type": "stream",
     "text": [
      "C:\\Users\\ozerr\\anaconda3\\envs\\tf_gpu\\lib\\site-packages\\seaborn\\distributions.py:2557: FutureWarning: `distplot` is a deprecated function and will be removed in a future version. Please adapt your code to use either `displot` (a figure-level function with similar flexibility) or `histplot` (an axes-level function for histograms).\n",
      "  warnings.warn(msg, FutureWarning)\n"
     ]
    },
    {
     "data": {
      "text/plain": [
       "<AxesSubplot:xlabel='price', ylabel='Density'>"
      ]
     },
     "execution_count": 13,
     "metadata": {},
     "output_type": "execute_result"
    },
    {
     "data": {
      "image/png": "[encoded data removed]",
      "text/plain": [
       "<Figure size 504x360 with 1 Axes>"
      ]
     },
     "metadata": {
      "needs_background": "light"
     },
     "output_type": "display_data"
    }
   ],
   "source": [
    "plt.figure(figsize = (7,5))\n",
    "sbn.distplot(cleanData[\"price\"])"
   ]
  },
  {
   "cell_type": "code",
   "execution_count": 14,
   "id": "musical-bookmark",
   "metadata": {},
   "outputs": [
    {
     "data": {
      "text/plain": [
       "year\n",
       "1997     4650.000000\n",
       "1998     4999.000000\n",
       "2002     2433.000000\n",
       "2003     3408.333333\n",
       "2004     5053.600000\n",
       "2005     3490.714286\n",
       "2006     6499.111111\n",
       "2007     7325.250000\n",
       "2008     6281.428571\n",
       "2009     6281.956522\n",
       "2010     7224.093750\n",
       "2011     8944.808511\n",
       "2012     9860.811765\n",
       "2013    11690.790378\n",
       "2014    13890.659955\n",
       "2015    15128.235235\n",
       "2016    16908.725051\n",
       "2017    19951.624289\n",
       "2018    26296.707176\n",
       "2019    30410.752268\n",
       "2020    35967.067039\n",
       "Name: price, dtype: float64"
      ]
     },
     "execution_count": 14,
     "metadata": {},
     "output_type": "execute_result"
    }
   ],
   "source": [
    "audiData.groupby(\"year\").mean()[\"price\"]"
   ]
  },
  {
   "cell_type": "code",
   "execution_count": 15,
   "id": "romance-structure",
   "metadata": {},
   "outputs": [],
   "source": [
    "audiData = cleanData"
   ]
  },
  {
   "cell_type": "code",
   "execution_count": 16,
   "id": "sophisticated-facility",
   "metadata": {},
   "outputs": [
    {
     "data": {
      "text/plain": [
       "year\n",
       "1997     4650.000000\n",
       "1998     4999.000000\n",
       "2002     2433.000000\n",
       "2003     3408.333333\n",
       "2004     5053.600000\n",
       "2005     3490.714286\n",
       "2006     6499.111111\n",
       "2007     7325.250000\n",
       "2008     6281.428571\n",
       "2009     6281.956522\n",
       "2010     7224.093750\n",
       "2011     8944.808511\n",
       "2012     9860.811765\n",
       "2013    11690.790378\n",
       "2014    13890.659955\n",
       "2015    15128.235235\n",
       "2016    16847.266055\n",
       "2017    19951.624289\n",
       "2018    25631.415493\n",
       "2019    29729.223172\n",
       "2020    33445.359882\n",
       "Name: price, dtype: float64"
      ]
     },
     "execution_count": 16,
     "metadata": {},
     "output_type": "execute_result"
    }
   ],
   "source": [
    "audiData.groupby(\"year\").mean()[\"price\"]"
   ]
  },
  {
   "cell_type": "code",
   "execution_count": 17,
   "id": "dried-circumstances",
   "metadata": {},
   "outputs": [],
   "source": [
    "y = audiData[\"price\"].values\n",
    "x = audiData.drop([\"price\", \"model\", \"transmission\", \"fuelType\"], axis = 1).values"
   ]
  },
  {
   "cell_type": "code",
   "execution_count": 18,
   "id": "random-touch",
   "metadata": {},
   "outputs": [
    {
     "data": {
      "text/plain": [
       "array([61990, 61950, 61900, ...,  1975,  1699,  1490], dtype=int64)"
      ]
     },
     "execution_count": 18,
     "metadata": {},
     "output_type": "execute_result"
    }
   ],
   "source": [
    "y"
   ]
  },
  {
   "cell_type": "code",
   "execution_count": 19,
   "id": "detailed-korea",
   "metadata": {},
   "outputs": [
    {
     "data": {
      "text/plain": [
       "array([[2.0190e+03, 6.0000e+03, 1.4500e+02, 3.2800e+01, 3.0000e+00],\n",
       "       [2.0200e+03, 8.5000e+03, 1.5000e+02, 3.3200e+01, 3.0000e+00],\n",
       "       [2.0180e+03, 1.9227e+04, 1.4500e+02, 3.7200e+01, 4.0000e+00],\n",
       "       ...,\n",
       "       [2.0050e+03, 1.0400e+05, 2.4000e+02, 3.8100e+01, 2.0000e+00],\n",
       "       [2.0040e+03, 1.1000e+05, 3.1500e+02, 3.6200e+01, 2.5000e+00],\n",
       "       [2.0030e+03, 1.0100e+05, 2.4000e+02, 4.4500e+01, 1.9000e+00]])"
      ]
     },
     "execution_count": 19,
     "metadata": {},
     "output_type": "execute_result"
    }
   ],
   "source": [
    "x"
   ]
  },
  {
   "cell_type": "code",
   "execution_count": 20,
   "id": "cellular-jordan",
   "metadata": {},
   "outputs": [],
   "source": [
    "from sklearn.model_selection import train_test_split"
   ]
  },
  {
   "cell_type": "code",
   "execution_count": 21,
   "id": "agricultural-documentation",
   "metadata": {},
   "outputs": [],
   "source": [
    "x_train, x_test, y_train, y_test = train_test_split(x, y, test_size = 0.3, random_state = 15)"
   ]
  },
  {
   "cell_type": "code",
   "execution_count": 22,
   "id": "expanded-circular",
   "metadata": {},
   "outputs": [
    {
     "data": {
      "text/plain": [
       "7404"
      ]
     },
     "execution_count": 22,
     "metadata": {},
     "output_type": "execute_result"
    }
   ],
   "source": [
    "len(x_train)"
   ]
  },
  {
   "cell_type": "code",
   "execution_count": 23,
   "id": "adjustable-variance",
   "metadata": {},
   "outputs": [
    {
     "data": {
      "text/plain": [
       "3174"
      ]
     },
     "execution_count": 23,
     "metadata": {},
     "output_type": "execute_result"
    }
   ],
   "source": [
    "len(x_test)"
   ]
  },
  {
   "cell_type": "code",
   "execution_count": 24,
   "id": "floppy-alabama",
   "metadata": {},
   "outputs": [],
   "source": [
    "from sklearn.preprocessing import MinMaxScaler"
   ]
  },
  {
   "cell_type": "code",
   "execution_count": 25,
   "id": "differential-trailer",
   "metadata": {},
   "outputs": [],
   "source": [
    "scaler = MinMaxScaler()"
   ]
  },
  {
   "cell_type": "code",
   "execution_count": 26,
   "id": "first-prevention",
   "metadata": {},
   "outputs": [],
   "source": [
    "x_train = scaler.fit_transform(x_train)\n",
    "x_test = scaler.transform(x_test)"
   ]
  },
  {
   "cell_type": "code",
   "execution_count": 27,
   "id": "covered-establishment",
   "metadata": {},
   "outputs": [],
   "source": [
    "from tensorflow.keras.models import Sequential\n",
    "from tensorflow.keras.layers import Dense, Dropout\n",
    "from tensorflow.keras.callbacks import EarlyStopping"
   ]
  },
  {
   "cell_type": "code",
   "execution_count": 28,
   "id": "incoming-consultation",
   "metadata": {},
   "outputs": [
    {
     "data": {
      "text/plain": [
       "(7404, 5)"
      ]
     },
     "execution_count": 28,
     "metadata": {},
     "output_type": "execute_result"
    }
   ],
   "source": [
    "x_train.shape"
   ]
  },
  {
   "cell_type": "code",
   "execution_count": 29,
   "id": "hollow-causing",
   "metadata": {},
   "outputs": [],
   "source": [
    "model = Sequential()\n",
    "\n",
    "model.add(Dense(12, activation = \"relu\"))\n",
    "model.add(Dense(12, activation = \"relu\"))\n",
    "model.add(Dense(12, activation = \"relu\"))\n",
    "model.add(Dense(12, activation = \"relu\"))\n",
    "\n",
    "model.add(Dense(1))\n",
    "\n",
    "model.compile(optimizer = \"adam\", loss = \"mse\")"
   ]
  },
  {
   "cell_type": "code",
   "execution_count": 30,
   "id": "liberal-southeast",
   "metadata": {},
   "outputs": [
    {
     "name": "stdout",
     "output_type": "stream",
     "text": [
      "Epoch 1/300\n",
      "30/30 [==============================] - 0s 4ms/step - loss: 601903424.0000 - val_loss: 612128768.0000\n",
      "Epoch 2/300\n",
      "30/30 [==============================] - 0s 931us/step - loss: 601882048.0000 - val_loss: 612094208.0000\n",
      "Epoch 3/300\n",
      "30/30 [==============================] - 0s 898us/step - loss: 601823168.0000 - val_loss: 611996032.0000\n",
      "Epoch 4/300\n",
      "30/30 [==============================] - 0s 898us/step - loss: 601658560.0000 - val_loss: 611727744.0000\n",
      "Epoch 5/300\n",
      "30/30 [==============================] - 0s 897us/step - loss: 601229824.0000 - val_loss: 611055424.0000\n",
      "Epoch 6/300\n",
      "30/30 [==============================] - 0s 931us/step - loss: 600193728.0000 - val_loss: 609494144.0000\n",
      "Epoch 7/300\n",
      "30/30 [==============================] - 0s 898us/step - loss: 597922560.0000 - val_loss: 606238784.0000\n",
      "Epoch 8/300\n",
      "30/30 [==============================] - 0s 898us/step - loss: 593466496.0000 - val_loss: 600106624.0000\n",
      "Epoch 9/300\n",
      "30/30 [==============================] - 0s 898us/step - loss: 585365056.0000 - val_loss: 589321280.0000\n",
      "Epoch 10/300\n",
      "30/30 [==============================] - 0s 898us/step - loss: 571605824.0000 - val_loss: 571699904.0000\n",
      "Epoch 11/300\n",
      "30/30 [==============================] - 0s 898us/step - loss: 549905152.0000 - val_loss: 544515264.0000\n",
      "Epoch 12/300\n",
      "30/30 [==============================] - 0s 964us/step - loss: 517423616.0000 - val_loss: 505169376.0000\n",
      "Epoch 13/300\n",
      "30/30 [==============================] - 0s 1ms/step - loss: 472041760.0000 - val_loss: 452111872.0000\n",
      "Epoch 14/300\n",
      "30/30 [==============================] - 0s 898us/step - loss: 413290016.0000 - val_loss: 385880544.0000\n",
      "Epoch 15/300\n",
      "30/30 [==============================] - 0s 898us/step - loss: 343343872.0000 - val_loss: 310876160.0000\n",
      "Epoch 16/300\n",
      "30/30 [==============================] - 0s 964us/step - loss: 268349744.0000 - val_loss: 235688656.0000\n",
      "Epoch 17/300\n",
      "30/30 [==============================] - 0s 898us/step - loss: 198394400.0000 - val_loss: 170798720.0000\n",
      "Epoch 18/300\n",
      "30/30 [==============================] - 0s 986us/step - loss: 143973328.0000 - val_loss: 125957384.0000\n",
      "Epoch 19/300\n",
      "30/30 [==============================] - 0s 898us/step - loss: 111203968.0000 - val_loss: 102246088.0000\n",
      "Epoch 20/300\n",
      "30/30 [==============================] - 0s 931us/step - loss: 96504192.0000 - val_loss: 93327840.0000\n",
      "Epoch 21/300\n",
      "30/30 [==============================] - 0s 931us/step - loss: 91568792.0000 - val_loss: 90463520.0000\n",
      "Epoch 22/300\n",
      "30/30 [==============================] - 0s 897us/step - loss: 90000736.0000 - val_loss: 89267536.0000\n",
      "Epoch 23/300\n",
      "30/30 [==============================] - 0s 931us/step - loss: 89141344.0000 - val_loss: 88519272.0000\n",
      "Epoch 24/300\n",
      "30/30 [==============================] - 0s 898us/step - loss: 88446392.0000 - val_loss: 87808608.0000\n",
      "Epoch 25/300\n",
      "30/30 [==============================] - 0s 931us/step - loss: 87801632.0000 - val_loss: 87147664.0000\n",
      "Epoch 26/300\n",
      "30/30 [==============================] - 0s 898us/step - loss: 87172880.0000 - val_loss: 86544632.0000\n",
      "Epoch 27/300\n",
      "30/30 [==============================] - 0s 898us/step - loss: 86565976.0000 - val_loss: 85951152.0000\n",
      "Epoch 28/300\n",
      "30/30 [==============================] - 0s 864us/step - loss: 85964888.0000 - val_loss: 85348144.0000\n",
      "Epoch 29/300\n",
      "30/30 [==============================] - 0s 931us/step - loss: 85375992.0000 - val_loss: 84768152.0000\n",
      "Epoch 30/300\n",
      "30/30 [==============================] - 0s 898us/step - loss: 84808856.0000 - val_loss: 84206520.0000\n",
      "Epoch 31/300\n",
      "30/30 [==============================] - 0s 898us/step - loss: 84242312.0000 - val_loss: 83631800.0000\n",
      "Epoch 32/300\n",
      "30/30 [==============================] - 0s 898us/step - loss: 83689912.0000 - val_loss: 83097040.0000\n",
      "Epoch 33/300\n",
      "30/30 [==============================] - 0s 898us/step - loss: 83104072.0000 - val_loss: 82513440.0000\n",
      "Epoch 34/300\n",
      "30/30 [==============================] - 0s 898us/step - loss: 82560224.0000 - val_loss: 81955688.0000\n",
      "Epoch 35/300\n",
      "30/30 [==============================] - 0s 931us/step - loss: 82015856.0000 - val_loss: 81416864.0000\n",
      "Epoch 36/300\n",
      "30/30 [==============================] - 0s 931us/step - loss: 81462160.0000 - val_loss: 80881896.0000\n",
      "Epoch 37/300\n",
      "30/30 [==============================] - 0s 931us/step - loss: 80931168.0000 - val_loss: 80330672.0000\n",
      "Epoch 38/300\n",
      "30/30 [==============================] - 0s 898us/step - loss: 80379328.0000 - val_loss: 79823176.0000\n",
      "Epoch 39/300\n",
      "30/30 [==============================] - 0s 898us/step - loss: 79863128.0000 - val_loss: 79277952.0000\n",
      "Epoch 40/300\n",
      "30/30 [==============================] - 0s 1ms/step - loss: 79314936.0000 - val_loss: 78741192.0000\n",
      "Epoch 41/300\n",
      "30/30 [==============================] - 0s 997us/step - loss: 78782456.0000 - val_loss: 78213024.0000\n",
      "Epoch 42/300\n",
      "30/30 [==============================] - 0s 964us/step - loss: 78248320.0000 - val_loss: 77683632.0000\n",
      "Epoch 43/300\n",
      "30/30 [==============================] - 0s 981us/step - loss: 77720696.0000 - val_loss: 77129856.0000\n",
      "Epoch 44/300\n",
      "30/30 [==============================] - 0s 931us/step - loss: 77198832.0000 - val_loss: 76597896.0000\n",
      "Epoch 45/300\n",
      "30/30 [==============================] - 0s 931us/step - loss: 76644192.0000 - val_loss: 76096112.0000\n",
      "Epoch 46/300\n",
      "30/30 [==============================] - 0s 864us/step - loss: 76117688.0000 - val_loss: 75538504.0000\n",
      "Epoch 47/300\n",
      "30/30 [==============================] - 0s 864us/step - loss: 75581576.0000 - val_loss: 75042120.0000\n",
      "Epoch 48/300\n",
      "30/30 [==============================] - 0s 864us/step - loss: 75052312.0000 - val_loss: 74481144.0000\n",
      "Epoch 49/300\n",
      "30/30 [==============================] - 0s 898us/step - loss: 74517208.0000 - val_loss: 73971472.0000\n",
      "Epoch 50/300\n",
      "30/30 [==============================] - 0s 898us/step - loss: 73978208.0000 - val_loss: 73416544.0000\n",
      "Epoch 51/300\n",
      "30/30 [==============================] - 0s 898us/step - loss: 73447928.0000 - val_loss: 72891952.0000\n",
      "Epoch 52/300\n",
      "30/30 [==============================] - 0s 943us/step - loss: 72913416.0000 - val_loss: 72341448.0000\n",
      "Epoch 53/300\n",
      "30/30 [==============================] - 0s 864us/step - loss: 72359784.0000 - val_loss: 71821120.0000\n",
      "Epoch 54/300\n",
      "30/30 [==============================] - 0s 931us/step - loss: 71818656.0000 - val_loss: 71283880.0000\n",
      "Epoch 55/300\n",
      "30/30 [==============================] - 0s 864us/step - loss: 71286568.0000 - val_loss: 70721864.0000\n",
      "Epoch 56/300\n",
      "30/30 [==============================] - 0s 904us/step - loss: 70729536.0000 - val_loss: 70192392.0000\n",
      "Epoch 57/300\n",
      "30/30 [==============================] - 0s 898us/step - loss: 70197464.0000 - val_loss: 69618448.0000\n",
      "Epoch 58/300\n",
      "30/30 [==============================] - 0s 931us/step - loss: 69627448.0000 - val_loss: 69105184.0000\n",
      "Epoch 59/300\n",
      "30/30 [==============================] - 0s 931us/step - loss: 69050296.0000 - val_loss: 68515048.0000\n",
      "Epoch 60/300\n",
      "30/30 [==============================] - 0s 898us/step - loss: 68494720.0000 - val_loss: 67950568.0000\n",
      "Epoch 61/300\n",
      "30/30 [==============================] - 0s 931us/step - loss: 67942984.0000 - val_loss: 67389672.0000\n",
      "Epoch 62/300\n",
      "30/30 [==============================] - 0s 898us/step - loss: 67351656.0000 - val_loss: 66830988.0000\n",
      "Epoch 63/300\n",
      "30/30 [==============================] - 0s 864us/step - loss: 66785288.0000 - val_loss: 66244440.0000\n",
      "Epoch 64/300\n",
      "30/30 [==============================] - 0s 864us/step - loss: 66205100.0000 - val_loss: 65669380.0000\n",
      "Epoch 65/300\n",
      "30/30 [==============================] - 0s 898us/step - loss: 65610444.0000 - val_loss: 65105628.0000\n",
      "Epoch 66/300\n",
      "30/30 [==============================] - 0s 897us/step - loss: 65011840.0000 - val_loss: 64503400.0000\n",
      "Epoch 67/300\n",
      "30/30 [==============================] - 0s 898us/step - loss: 64427180.0000 - val_loss: 63913724.0000\n",
      "Epoch 68/300\n",
      "30/30 [==============================] - 0s 864us/step - loss: 63814588.0000 - val_loss: 63307968.0000\n",
      "Epoch 69/300\n",
      "30/30 [==============================] - 0s 931us/step - loss: 63196176.0000 - val_loss: 62703900.0000\n",
      "Epoch 70/300\n",
      "30/30 [==============================] - 0s 898us/step - loss: 62573216.0000 - val_loss: 62074176.0000\n",
      "Epoch 71/300\n"
     ]
    },
    {
     "name": "stdout",
     "output_type": "stream",
     "text": [
      "30/30 [==============================] - 0s 948us/step - loss: 61956440.0000 - val_loss: 61459224.0000\n",
      "Epoch 72/300\n",
      "30/30 [==============================] - 0s 931us/step - loss: 61316680.0000 - val_loss: 60823860.0000\n",
      "Epoch 73/300\n",
      "30/30 [==============================] - 0s 898us/step - loss: 60671660.0000 - val_loss: 60174260.0000\n",
      "Epoch 74/300\n",
      "30/30 [==============================] - 0s 898us/step - loss: 60040500.0000 - val_loss: 59538300.0000\n",
      "Epoch 75/300\n",
      "30/30 [==============================] - 0s 931us/step - loss: 59391244.0000 - val_loss: 58897524.0000\n",
      "Epoch 76/300\n",
      "30/30 [==============================] - 0s 898us/step - loss: 58699620.0000 - val_loss: 58229800.0000\n",
      "Epoch 77/300\n",
      "30/30 [==============================] - 0s 864us/step - loss: 58049676.0000 - val_loss: 57563744.0000\n",
      "Epoch 78/300\n",
      "30/30 [==============================] - 0s 898us/step - loss: 57345956.0000 - val_loss: 56885196.0000\n",
      "Epoch 79/300\n",
      "30/30 [==============================] - 0s 931us/step - loss: 56640472.0000 - val_loss: 56204764.0000\n",
      "Epoch 80/300\n",
      "30/30 [==============================] - 0s 897us/step - loss: 55959836.0000 - val_loss: 55499836.0000\n",
      "Epoch 81/300\n",
      "30/30 [==============================] - 0s 898us/step - loss: 55222064.0000 - val_loss: 54816640.0000\n",
      "Epoch 82/300\n",
      "30/30 [==============================] - 0s 898us/step - loss: 54502988.0000 - val_loss: 54107720.0000\n",
      "Epoch 83/300\n",
      "30/30 [==============================] - 0s 864us/step - loss: 53782312.0000 - val_loss: 53386340.0000\n",
      "Epoch 84/300\n",
      "30/30 [==============================] - 0s 898us/step - loss: 53046752.0000 - val_loss: 52679896.0000\n",
      "Epoch 85/300\n",
      "30/30 [==============================] - 0s 931us/step - loss: 52299488.0000 - val_loss: 51934716.0000\n",
      "Epoch 86/300\n",
      "30/30 [==============================] - 0s 898us/step - loss: 51561580.0000 - val_loss: 51210480.0000\n",
      "Epoch 87/300\n",
      "30/30 [==============================] - 0s 864us/step - loss: 50772640.0000 - val_loss: 50459204.0000\n",
      "Epoch 88/300\n",
      "30/30 [==============================] - 0s 864us/step - loss: 50029340.0000 - val_loss: 49707648.0000\n",
      "Epoch 89/300\n",
      "30/30 [==============================] - 0s 930us/step - loss: 49228104.0000 - val_loss: 48960984.0000\n",
      "Epoch 90/300\n",
      "30/30 [==============================] - 0s 898us/step - loss: 48450040.0000 - val_loss: 48210064.0000\n",
      "Epoch 91/300\n",
      "30/30 [==============================] - 0s 898us/step - loss: 47660808.0000 - val_loss: 47453092.0000\n",
      "Epoch 92/300\n",
      "30/30 [==============================] - 0s 864us/step - loss: 46874056.0000 - val_loss: 46664944.0000\n",
      "Epoch 93/300\n",
      "30/30 [==============================] - 0s 864us/step - loss: 46054088.0000 - val_loss: 45899664.0000\n",
      "Epoch 94/300\n",
      "30/30 [==============================] - 0s 864us/step - loss: 45240924.0000 - val_loss: 45107536.0000\n",
      "Epoch 95/300\n",
      "30/30 [==============================] - 0s 864us/step - loss: 44422756.0000 - val_loss: 44328792.0000\n",
      "Epoch 96/300\n",
      "30/30 [==============================] - 0s 864us/step - loss: 43585516.0000 - val_loss: 43529320.0000\n",
      "Epoch 97/300\n",
      "30/30 [==============================] - 0s 910us/step - loss: 42785952.0000 - val_loss: 42732712.0000\n",
      "Epoch 98/300\n",
      "30/30 [==============================] - 0s 864us/step - loss: 41934528.0000 - val_loss: 41954688.0000\n",
      "Epoch 99/300\n",
      "30/30 [==============================] - 0s 864us/step - loss: 41095364.0000 - val_loss: 41144992.0000\n",
      "Epoch 100/300\n",
      "30/30 [==============================] - 0s 864us/step - loss: 40260964.0000 - val_loss: 40363888.0000\n",
      "Epoch 101/300\n",
      "30/30 [==============================] - 0s 904us/step - loss: 39421460.0000 - val_loss: 39560036.0000\n",
      "Epoch 102/300\n",
      "30/30 [==============================] - 0s 898us/step - loss: 38583288.0000 - val_loss: 38777300.0000\n",
      "Epoch 103/300\n",
      "30/30 [==============================] - 0s 898us/step - loss: 37759572.0000 - val_loss: 37988964.0000\n",
      "Epoch 104/300\n",
      "30/30 [==============================] - 0s 898us/step - loss: 36953148.0000 - val_loss: 37206016.0000\n",
      "Epoch 105/300\n",
      "30/30 [==============================] - 0s 864us/step - loss: 36106420.0000 - val_loss: 36447100.0000\n",
      "Epoch 106/300\n",
      "30/30 [==============================] - 0s 898us/step - loss: 35313080.0000 - val_loss: 35697256.0000\n",
      "Epoch 107/300\n",
      "30/30 [==============================] - 0s 898us/step - loss: 34499472.0000 - val_loss: 34934220.0000\n",
      "Epoch 108/300\n",
      "30/30 [==============================] - 0s 898us/step - loss: 33691152.0000 - val_loss: 34199252.0000\n",
      "Epoch 109/300\n",
      "30/30 [==============================] - 0s 898us/step - loss: 32914376.0000 - val_loss: 33479576.0000\n",
      "Epoch 110/300\n",
      "30/30 [==============================] - 0s 864us/step - loss: 32125202.0000 - val_loss: 32770880.0000\n",
      "Epoch 111/300\n",
      "30/30 [==============================] - 0s 964us/step - loss: 31369202.0000 - val_loss: 32084602.0000\n",
      "Epoch 112/300\n",
      "30/30 [==============================] - 0s 964us/step - loss: 30638168.0000 - val_loss: 31406984.0000\n",
      "Epoch 113/300\n",
      "30/30 [==============================] - 0s 964us/step - loss: 29916372.0000 - val_loss: 30756008.0000\n",
      "Epoch 114/300\n",
      "30/30 [==============================] - 0s 997us/step - loss: 29229682.0000 - val_loss: 30120588.0000\n",
      "Epoch 115/300\n",
      "30/30 [==============================] - 0s 865us/step - loss: 28541464.0000 - val_loss: 29517098.0000\n",
      "Epoch 116/300\n",
      "30/30 [==============================] - 0s 898us/step - loss: 27897410.0000 - val_loss: 28928556.0000\n",
      "Epoch 117/300\n",
      "30/30 [==============================] - 0s 898us/step - loss: 27273078.0000 - val_loss: 28365086.0000\n",
      "Epoch 118/300\n",
      "30/30 [==============================] - 0s 864us/step - loss: 26678892.0000 - val_loss: 27816272.0000\n",
      "Epoch 119/300\n",
      "30/30 [==============================] - 0s 898us/step - loss: 26082512.0000 - val_loss: 27314276.0000\n",
      "Epoch 120/300\n",
      "30/30 [==============================] - 0s 931us/step - loss: 25538048.0000 - val_loss: 26806528.0000\n",
      "Epoch 121/300\n",
      "30/30 [==============================] - 0s 931us/step - loss: 25004964.0000 - val_loss: 26338942.0000\n",
      "Epoch 122/300\n",
      "30/30 [==============================] - 0s 931us/step - loss: 24501360.0000 - val_loss: 25881174.0000\n",
      "Epoch 123/300\n",
      "30/30 [==============================] - 0s 898us/step - loss: 24012600.0000 - val_loss: 25462684.0000\n",
      "Epoch 124/300\n",
      "30/30 [==============================] - 0s 864us/step - loss: 23563910.0000 - val_loss: 25046302.0000\n",
      "Epoch 125/300\n",
      "30/30 [==============================] - 0s 864us/step - loss: 23128066.0000 - val_loss: 24662212.0000\n",
      "Epoch 126/300\n",
      "30/30 [==============================] - 0s 870us/step - loss: 22716354.0000 - val_loss: 24299294.0000\n",
      "Epoch 127/300\n",
      "30/30 [==============================] - 0s 898us/step - loss: 22317254.0000 - val_loss: 23945756.0000\n",
      "Epoch 128/300\n",
      "30/30 [==============================] - 0s 898us/step - loss: 21951228.0000 - val_loss: 23613630.0000\n",
      "Epoch 129/300\n",
      "30/30 [==============================] - 0s 864us/step - loss: 21590726.0000 - val_loss: 23298944.0000\n",
      "Epoch 130/300\n",
      "30/30 [==============================] - 0s 898us/step - loss: 21235848.0000 - val_loss: 22987946.0000\n",
      "Epoch 131/300\n",
      "30/30 [==============================] - 0s 898us/step - loss: 20920636.0000 - val_loss: 22728346.0000\n",
      "Epoch 132/300\n",
      "30/30 [==============================] - 0s 898us/step - loss: 20614152.0000 - val_loss: 22420502.0000\n",
      "Epoch 133/300\n",
      "30/30 [==============================] - 0s 831us/step - loss: 20313284.0000 - val_loss: 22175530.0000\n",
      "Epoch 134/300\n",
      "30/30 [==============================] - 0s 898us/step - loss: 20035100.0000 - val_loss: 21917972.0000\n",
      "Epoch 135/300\n",
      "30/30 [==============================] - 0s 898us/step - loss: 19774734.0000 - val_loss: 21645776.0000\n",
      "Epoch 136/300\n",
      "30/30 [==============================] - 0s 898us/step - loss: 19492808.0000 - val_loss: 21397974.0000\n",
      "Epoch 137/300\n",
      "30/30 [==============================] - 0s 864us/step - loss: 19258552.0000 - val_loss: 21180948.0000\n",
      "Epoch 138/300\n",
      "30/30 [==============================] - 0s 864us/step - loss: 19046090.0000 - val_loss: 20965282.0000\n",
      "Epoch 139/300\n",
      "30/30 [==============================] - 0s 864us/step - loss: 18805810.0000 - val_loss: 20796108.0000\n",
      "Epoch 140/300\n",
      "30/30 [==============================] - 0s 864us/step - loss: 18598216.0000 - val_loss: 20547480.0000\n",
      "Epoch 141/300\n"
     ]
    },
    {
     "name": "stdout",
     "output_type": "stream",
     "text": [
      "30/30 [==============================] - 0s 898us/step - loss: 18357812.0000 - val_loss: 20413524.0000\n",
      "Epoch 142/300\n",
      "30/30 [==============================] - 0s 898us/step - loss: 18142740.0000 - val_loss: 20135502.0000\n",
      "Epoch 143/300\n",
      "30/30 [==============================] - 0s 898us/step - loss: 17932840.0000 - val_loss: 19963210.0000\n",
      "Epoch 144/300\n",
      "30/30 [==============================] - 0s 898us/step - loss: 17730774.0000 - val_loss: 19724366.0000\n",
      "Epoch 145/300\n",
      "30/30 [==============================] - 0s 864us/step - loss: 17524862.0000 - val_loss: 19526638.0000\n",
      "Epoch 146/300\n",
      "30/30 [==============================] - 0s 864us/step - loss: 17333948.0000 - val_loss: 19392502.0000\n",
      "Epoch 147/300\n",
      "30/30 [==============================] - 0s 864us/step - loss: 17156254.0000 - val_loss: 19166104.0000\n",
      "Epoch 148/300\n",
      "30/30 [==============================] - 0s 864us/step - loss: 16994722.0000 - val_loss: 19030116.0000\n",
      "Epoch 149/300\n",
      "30/30 [==============================] - 0s 864us/step - loss: 16845562.0000 - val_loss: 18885756.0000\n",
      "Epoch 150/300\n",
      "30/30 [==============================] - 0s 898us/step - loss: 16722290.0000 - val_loss: 18775282.0000\n",
      "Epoch 151/300\n",
      "30/30 [==============================] - 0s 864us/step - loss: 16581900.0000 - val_loss: 18645102.0000\n",
      "Epoch 152/300\n",
      "30/30 [==============================] - 0s 898us/step - loss: 16466353.0000 - val_loss: 18519072.0000\n",
      "Epoch 153/300\n",
      "30/30 [==============================] - 0s 898us/step - loss: 16344580.0000 - val_loss: 18451832.0000\n",
      "Epoch 154/300\n",
      "30/30 [==============================] - 0s 898us/step - loss: 16227978.0000 - val_loss: 18355884.0000\n",
      "Epoch 155/300\n",
      "30/30 [==============================] - 0s 898us/step - loss: 16125174.0000 - val_loss: 18254394.0000\n",
      "Epoch 156/300\n",
      "30/30 [==============================] - 0s 898us/step - loss: 16027485.0000 - val_loss: 18183822.0000\n",
      "Epoch 157/300\n",
      "30/30 [==============================] - 0s 897us/step - loss: 15961612.0000 - val_loss: 18076770.0000\n",
      "Epoch 158/300\n",
      "30/30 [==============================] - 0s 898us/step - loss: 15849766.0000 - val_loss: 18112526.0000\n",
      "Epoch 159/300\n",
      "30/30 [==============================] - 0s 898us/step - loss: 15789585.0000 - val_loss: 17892628.0000\n",
      "Epoch 160/300\n",
      "30/30 [==============================] - 0s 898us/step - loss: 15695961.0000 - val_loss: 17867510.0000\n",
      "Epoch 161/300\n",
      "30/30 [==============================] - 0s 898us/step - loss: 15623341.0000 - val_loss: 17741558.0000\n",
      "Epoch 162/300\n",
      "30/30 [==============================] - 0s 864us/step - loss: 15527675.0000 - val_loss: 17639232.0000\n",
      "Epoch 163/300\n",
      "30/30 [==============================] - 0s 931us/step - loss: 15458061.0000 - val_loss: 17580248.0000\n",
      "Epoch 164/300\n",
      "30/30 [==============================] - 0s 898us/step - loss: 15372849.0000 - val_loss: 17574160.0000\n",
      "Epoch 165/300\n",
      "30/30 [==============================] - 0s 931us/step - loss: 15294311.0000 - val_loss: 17410346.0000\n",
      "Epoch 166/300\n",
      "30/30 [==============================] - 0s 898us/step - loss: 15236333.0000 - val_loss: 17353546.0000\n",
      "Epoch 167/300\n",
      "30/30 [==============================] - 0s 898us/step - loss: 15182760.0000 - val_loss: 17273566.0000\n",
      "Epoch 168/300\n",
      "30/30 [==============================] - 0s 898us/step - loss: 15114943.0000 - val_loss: 17258606.0000\n",
      "Epoch 169/300\n",
      "30/30 [==============================] - 0s 898us/step - loss: 15048860.0000 - val_loss: 17166920.0000\n",
      "Epoch 170/300\n",
      "30/30 [==============================] - 0s 898us/step - loss: 15009796.0000 - val_loss: 17114196.0000\n",
      "Epoch 171/300\n",
      "30/30 [==============================] - 0s 898us/step - loss: 14963778.0000 - val_loss: 17118806.0000\n",
      "Epoch 172/300\n",
      "30/30 [==============================] - 0s 931us/step - loss: 14908342.0000 - val_loss: 17048704.0000\n",
      "Epoch 173/300\n",
      "30/30 [==============================] - 0s 864us/step - loss: 14864953.0000 - val_loss: 17019380.0000\n",
      "Epoch 174/300\n",
      "30/30 [==============================] - 0s 898us/step - loss: 14831027.0000 - val_loss: 17150636.0000\n",
      "Epoch 175/300\n",
      "30/30 [==============================] - 0s 898us/step - loss: 14780632.0000 - val_loss: 16917752.0000\n",
      "Epoch 176/300\n",
      "30/30 [==============================] - 0s 898us/step - loss: 14738525.0000 - val_loss: 16932002.0000\n",
      "Epoch 177/300\n",
      "30/30 [==============================] - 0s 898us/step - loss: 14706448.0000 - val_loss: 16840864.0000\n",
      "Epoch 178/300\n",
      "30/30 [==============================] - 0s 931us/step - loss: 14681788.0000 - val_loss: 16810422.0000\n",
      "Epoch 179/300\n",
      "30/30 [==============================] - 0s 898us/step - loss: 14679889.0000 - val_loss: 16788130.0000\n",
      "Epoch 180/300\n",
      "30/30 [==============================] - 0s 864us/step - loss: 14620911.0000 - val_loss: 16757127.0000\n",
      "Epoch 181/300\n",
      "30/30 [==============================] - 0s 864us/step - loss: 14582694.0000 - val_loss: 16777792.0000\n",
      "Epoch 182/300\n",
      "30/30 [==============================] - 0s 931us/step - loss: 14565494.0000 - val_loss: 16700680.0000\n",
      "Epoch 183/300\n",
      "30/30 [==============================] - 0s 964us/step - loss: 14534934.0000 - val_loss: 16730859.0000\n",
      "Epoch 184/300\n",
      "30/30 [==============================] - 0s 898us/step - loss: 14484286.0000 - val_loss: 16599376.0000\n",
      "Epoch 185/300\n",
      "30/30 [==============================] - 0s 914us/step - loss: 14446282.0000 - val_loss: 16546944.0000\n",
      "Epoch 186/300\n",
      "30/30 [==============================] - 0s 898us/step - loss: 14405393.0000 - val_loss: 16466989.0000\n",
      "Epoch 187/300\n",
      "30/30 [==============================] - 0s 864us/step - loss: 14365867.0000 - val_loss: 16459690.0000\n",
      "Epoch 188/300\n",
      "30/30 [==============================] - 0s 964us/step - loss: 14335078.0000 - val_loss: 16460053.0000\n",
      "Epoch 189/300\n",
      "30/30 [==============================] - 0s 898us/step - loss: 14297580.0000 - val_loss: 16511688.0000\n",
      "Epoch 190/300\n",
      "30/30 [==============================] - 0s 898us/step - loss: 14273070.0000 - val_loss: 16382338.0000\n",
      "Epoch 191/300\n",
      "30/30 [==============================] - 0s 864us/step - loss: 14257012.0000 - val_loss: 16414604.0000\n",
      "Epoch 192/300\n",
      "30/30 [==============================] - 0s 864us/step - loss: 14257841.0000 - val_loss: 16495529.0000\n",
      "Epoch 193/300\n",
      "30/30 [==============================] - 0s 864us/step - loss: 14212320.0000 - val_loss: 16322948.0000\n",
      "Epoch 194/300\n",
      "30/30 [==============================] - 0s 897us/step - loss: 14221878.0000 - val_loss: 16321144.0000\n",
      "Epoch 195/300\n",
      "30/30 [==============================] - 0s 898us/step - loss: 14201871.0000 - val_loss: 16328701.0000\n",
      "Epoch 196/300\n",
      "30/30 [==============================] - 0s 898us/step - loss: 14176948.0000 - val_loss: 16281443.0000\n",
      "Epoch 197/300\n",
      "30/30 [==============================] - 0s 898us/step - loss: 14168530.0000 - val_loss: 16293580.0000\n",
      "Epoch 198/300\n",
      "30/30 [==============================] - 0s 864us/step - loss: 14154360.0000 - val_loss: 16271041.0000\n",
      "Epoch 199/300\n",
      "30/30 [==============================] - 0s 864us/step - loss: 14130048.0000 - val_loss: 16360895.0000\n",
      "Epoch 200/300\n",
      "30/30 [==============================] - 0s 864us/step - loss: 14131222.0000 - val_loss: 16407458.0000\n",
      "Epoch 201/300\n",
      "30/30 [==============================] - 0s 898us/step - loss: 14164682.0000 - val_loss: 16298784.0000\n",
      "Epoch 202/300\n",
      "30/30 [==============================] - 0s 898us/step - loss: 14086069.0000 - val_loss: 16207709.0000\n",
      "Epoch 203/300\n",
      "30/30 [==============================] - 0s 898us/step - loss: 14095972.0000 - val_loss: 16350791.0000\n",
      "Epoch 204/300\n",
      "30/30 [==============================] - 0s 864us/step - loss: 14083991.0000 - val_loss: 16264729.0000\n",
      "Epoch 205/300\n",
      "30/30 [==============================] - 0s 865us/step - loss: 14058656.0000 - val_loss: 16170049.0000\n",
      "Epoch 206/300\n",
      "30/30 [==============================] - 0s 864us/step - loss: 14071683.0000 - val_loss: 16173848.0000\n",
      "Epoch 207/300\n",
      "30/30 [==============================] - 0s 898us/step - loss: 14050139.0000 - val_loss: 16175766.0000\n",
      "Epoch 208/300\n",
      "30/30 [==============================] - 0s 864us/step - loss: 14017050.0000 - val_loss: 16262405.0000\n",
      "Epoch 209/300\n",
      "30/30 [==============================] - 0s 898us/step - loss: 14002170.0000 - val_loss: 16143937.0000\n",
      "Epoch 210/300\n",
      "30/30 [==============================] - 0s 864us/step - loss: 13981172.0000 - val_loss: 16109125.0000\n",
      "Epoch 211/300\n"
     ]
    },
    {
     "name": "stdout",
     "output_type": "stream",
     "text": [
      "30/30 [==============================] - 0s 864us/step - loss: 13968205.0000 - val_loss: 16274809.0000\n",
      "Epoch 212/300\n",
      "30/30 [==============================] - 0s 865us/step - loss: 13944881.0000 - val_loss: 16045413.0000\n",
      "Epoch 213/300\n",
      "30/30 [==============================] - 0s 864us/step - loss: 13904682.0000 - val_loss: 15969549.0000\n",
      "Epoch 214/300\n",
      "30/30 [==============================] - 0s 898us/step - loss: 13872431.0000 - val_loss: 15977136.0000\n",
      "Epoch 215/300\n",
      "30/30 [==============================] - 0s 864us/step - loss: 13844955.0000 - val_loss: 16025352.0000\n",
      "Epoch 216/300\n",
      "30/30 [==============================] - 0s 864us/step - loss: 13853172.0000 - val_loss: 15951142.0000\n",
      "Epoch 217/300\n",
      "30/30 [==============================] - 0s 864us/step - loss: 13802316.0000 - val_loss: 16039790.0000\n",
      "Epoch 218/300\n",
      "30/30 [==============================] - 0s 897us/step - loss: 13789139.0000 - val_loss: 15906349.0000\n",
      "Epoch 219/300\n",
      "30/30 [==============================] - 0s 931us/step - loss: 13791345.0000 - val_loss: 15967922.0000\n",
      "Epoch 220/300\n",
      "30/30 [==============================] - 0s 898us/step - loss: 13769383.0000 - val_loss: 15913177.0000\n",
      "Epoch 221/300\n",
      "30/30 [==============================] - 0s 898us/step - loss: 13758206.0000 - val_loss: 15885622.0000\n",
      "Epoch 222/300\n",
      "30/30 [==============================] - 0s 898us/step - loss: 13765735.0000 - val_loss: 15867878.0000\n",
      "Epoch 223/300\n",
      "30/30 [==============================] - 0s 898us/step - loss: 13782715.0000 - val_loss: 15855777.0000\n",
      "Epoch 224/300\n",
      "30/30 [==============================] - 0s 864us/step - loss: 13741334.0000 - val_loss: 15845456.0000\n",
      "Epoch 225/300\n",
      "30/30 [==============================] - 0s 897us/step - loss: 13722078.0000 - val_loss: 15861488.0000\n",
      "Epoch 226/300\n",
      "30/30 [==============================] - 0s 931us/step - loss: 13697557.0000 - val_loss: 15859376.0000\n",
      "Epoch 227/300\n",
      "30/30 [==============================] - 0s 864us/step - loss: 13689169.0000 - val_loss: 15862581.0000\n",
      "Epoch 228/300\n",
      "30/30 [==============================] - 0s 864us/step - loss: 13709666.0000 - val_loss: 15918301.0000\n",
      "Epoch 229/300\n",
      "30/30 [==============================] - 0s 898us/step - loss: 13666106.0000 - val_loss: 15831970.0000\n",
      "Epoch 230/300\n",
      "30/30 [==============================] - 0s 898us/step - loss: 13652454.0000 - val_loss: 15787811.0000\n",
      "Epoch 231/300\n",
      "30/30 [==============================] - 0s 864us/step - loss: 13644294.0000 - val_loss: 15880913.0000\n",
      "Epoch 232/300\n",
      "30/30 [==============================] - 0s 898us/step - loss: 13628706.0000 - val_loss: 15787415.0000\n",
      "Epoch 233/300\n",
      "30/30 [==============================] - 0s 864us/step - loss: 13632694.0000 - val_loss: 15836393.0000\n",
      "Epoch 234/300\n",
      "30/30 [==============================] - 0s 864us/step - loss: 13605588.0000 - val_loss: 15755932.0000\n",
      "Epoch 235/300\n",
      "30/30 [==============================] - 0s 864us/step - loss: 13618148.0000 - val_loss: 15845883.0000\n",
      "Epoch 236/300\n",
      "30/30 [==============================] - 0s 898us/step - loss: 13595761.0000 - val_loss: 15763577.0000\n",
      "Epoch 237/300\n",
      "30/30 [==============================] - 0s 864us/step - loss: 13579933.0000 - val_loss: 15748202.0000\n",
      "Epoch 238/300\n",
      "30/30 [==============================] - 0s 898us/step - loss: 13578621.0000 - val_loss: 15727373.0000\n",
      "Epoch 239/300\n",
      "30/30 [==============================] - 0s 864us/step - loss: 13560376.0000 - val_loss: 15695161.0000\n",
      "Epoch 240/300\n",
      "30/30 [==============================] - 0s 898us/step - loss: 13564310.0000 - val_loss: 15680874.0000\n",
      "Epoch 241/300\n",
      "30/30 [==============================] - 0s 898us/step - loss: 13540683.0000 - val_loss: 15743012.0000\n",
      "Epoch 242/300\n",
      "30/30 [==============================] - 0s 898us/step - loss: 13537749.0000 - val_loss: 15726293.0000\n",
      "Epoch 243/300\n",
      "30/30 [==============================] - 0s 931us/step - loss: 13509873.0000 - val_loss: 15742194.0000\n",
      "Epoch 244/300\n",
      "30/30 [==============================] - 0s 898us/step - loss: 13534272.0000 - val_loss: 15650767.0000\n",
      "Epoch 245/300\n",
      "30/30 [==============================] - 0s 898us/step - loss: 13496007.0000 - val_loss: 15649483.0000\n",
      "Epoch 246/300\n",
      "30/30 [==============================] - 0s 898us/step - loss: 13491779.0000 - val_loss: 15605702.0000\n",
      "Epoch 247/300\n",
      "30/30 [==============================] - 0s 898us/step - loss: 13495497.0000 - val_loss: 15618785.0000\n",
      "Epoch 248/300\n",
      "30/30 [==============================] - 0s 898us/step - loss: 13470872.0000 - val_loss: 15607275.0000\n",
      "Epoch 249/300\n",
      "30/30 [==============================] - 0s 898us/step - loss: 13449996.0000 - val_loss: 15590708.0000\n",
      "Epoch 250/300\n",
      "30/30 [==============================] - 0s 899us/step - loss: 13451251.0000 - val_loss: 15596823.0000\n",
      "Epoch 251/300\n",
      "30/30 [==============================] - 0s 898us/step - loss: 13426239.0000 - val_loss: 15671573.0000\n",
      "Epoch 252/300\n",
      "30/30 [==============================] - 0s 864us/step - loss: 13424098.0000 - val_loss: 15573999.0000\n",
      "Epoch 253/300\n",
      "30/30 [==============================] - 0s 964us/step - loss: 13419563.0000 - val_loss: 15575918.0000\n",
      "Epoch 254/300\n",
      "30/30 [==============================] - 0s 964us/step - loss: 13402412.0000 - val_loss: 15616875.0000\n",
      "Epoch 255/300\n",
      "30/30 [==============================] - 0s 931us/step - loss: 13398256.0000 - val_loss: 15562851.0000\n",
      "Epoch 256/300\n",
      "30/30 [==============================] - 0s 965us/step - loss: 13387225.0000 - val_loss: 15634986.0000\n",
      "Epoch 257/300\n",
      "30/30 [==============================] - 0s 899us/step - loss: 13387144.0000 - val_loss: 15548461.0000\n",
      "Epoch 258/300\n",
      "30/30 [==============================] - 0s 865us/step - loss: 13373647.0000 - val_loss: 15690718.0000\n",
      "Epoch 259/300\n",
      "30/30 [==============================] - 0s 932us/step - loss: 13389638.0000 - val_loss: 15738215.0000\n",
      "Epoch 260/300\n",
      "30/30 [==============================] - 0s 864us/step - loss: 13367713.0000 - val_loss: 15561641.0000\n",
      "Epoch 261/300\n",
      "30/30 [==============================] - 0s 898us/step - loss: 13354484.0000 - val_loss: 15540787.0000\n",
      "Epoch 262/300\n",
      "30/30 [==============================] - 0s 931us/step - loss: 13331978.0000 - val_loss: 15499654.0000\n",
      "Epoch 263/300\n",
      "30/30 [==============================] - 0s 889us/step - loss: 13326059.0000 - val_loss: 15474267.0000\n",
      "Epoch 264/300\n",
      "30/30 [==============================] - 0s 831us/step - loss: 13326090.0000 - val_loss: 15471671.0000\n",
      "Epoch 265/300\n",
      "30/30 [==============================] - 0s 898us/step - loss: 13340236.0000 - val_loss: 15504214.0000\n",
      "Epoch 266/300\n",
      "30/30 [==============================] - 0s 864us/step - loss: 13316287.0000 - val_loss: 15461534.0000\n",
      "Epoch 267/300\n",
      "30/30 [==============================] - 0s 898us/step - loss: 13287385.0000 - val_loss: 15564973.0000\n",
      "Epoch 268/300\n",
      "30/30 [==============================] - 0s 898us/step - loss: 13302012.0000 - val_loss: 15575268.0000\n",
      "Epoch 269/300\n",
      "30/30 [==============================] - 0s 882us/step - loss: 13283837.0000 - val_loss: 15415819.0000\n",
      "Epoch 270/300\n",
      "30/30 [==============================] - 0s 864us/step - loss: 13304539.0000 - val_loss: 15411463.0000\n",
      "Epoch 271/300\n",
      "30/30 [==============================] - 0s 898us/step - loss: 13270176.0000 - val_loss: 15411897.0000\n",
      "Epoch 272/300\n",
      "30/30 [==============================] - 0s 864us/step - loss: 13283086.0000 - val_loss: 15392103.0000\n",
      "Epoch 273/300\n",
      "30/30 [==============================] - 0s 898us/step - loss: 13267256.0000 - val_loss: 15488105.0000\n",
      "Epoch 274/300\n",
      "30/30 [==============================] - 0s 864us/step - loss: 13250836.0000 - val_loss: 15384803.0000\n",
      "Epoch 275/300\n",
      "30/30 [==============================] - 0s 898us/step - loss: 13233229.0000 - val_loss: 15377795.0000\n",
      "Epoch 276/300\n",
      "30/30 [==============================] - 0s 864us/step - loss: 13251112.0000 - val_loss: 15363760.0000\n",
      "Epoch 277/300\n",
      "30/30 [==============================] - 0s 864us/step - loss: 13220009.0000 - val_loss: 15366738.0000\n",
      "Epoch 278/300\n",
      "30/30 [==============================] - 0s 864us/step - loss: 13201686.0000 - val_loss: 15466182.0000\n",
      "Epoch 279/300\n",
      "30/30 [==============================] - 0s 898us/step - loss: 13207136.0000 - val_loss: 15350129.0000\n",
      "Epoch 280/300\n",
      "30/30 [==============================] - 0s 898us/step - loss: 13204468.0000 - val_loss: 15432426.0000\n",
      "Epoch 281/300\n"
     ]
    },
    {
     "name": "stdout",
     "output_type": "stream",
     "text": [
      "30/30 [==============================] - 0s 864us/step - loss: 13192927.0000 - val_loss: 15339391.0000\n",
      "Epoch 282/300\n",
      "30/30 [==============================] - 0s 931us/step - loss: 13179766.0000 - val_loss: 15338297.0000\n",
      "Epoch 283/300\n",
      "30/30 [==============================] - 0s 948us/step - loss: 13188727.0000 - val_loss: 15401741.0000\n",
      "Epoch 284/300\n",
      "30/30 [==============================] - 0s 864us/step - loss: 13187696.0000 - val_loss: 15396909.0000\n",
      "Epoch 285/300\n",
      "30/30 [==============================] - 0s 864us/step - loss: 13212126.0000 - val_loss: 15649111.0000\n",
      "Epoch 286/300\n",
      "30/30 [==============================] - 0s 898us/step - loss: 13200537.0000 - val_loss: 15382713.0000\n",
      "Epoch 287/300\n",
      "30/30 [==============================] - 0s 898us/step - loss: 13144894.0000 - val_loss: 15309210.0000\n",
      "Epoch 288/300\n",
      "30/30 [==============================] - 0s 898us/step - loss: 13147043.0000 - val_loss: 15375967.0000\n",
      "Epoch 289/300\n",
      "30/30 [==============================] - 0s 898us/step - loss: 13142667.0000 - val_loss: 15372847.0000\n",
      "Epoch 290/300\n",
      "30/30 [==============================] - 0s 898us/step - loss: 13147875.0000 - val_loss: 15285840.0000\n",
      "Epoch 291/300\n",
      "30/30 [==============================] - 0s 931us/step - loss: 13147405.0000 - val_loss: 15252621.0000\n",
      "Epoch 292/300\n",
      "30/30 [==============================] - 0s 898us/step - loss: 13121320.0000 - val_loss: 15245201.0000\n",
      "Epoch 293/300\n",
      "30/30 [==============================] - 0s 931us/step - loss: 13109410.0000 - val_loss: 15347024.0000\n",
      "Epoch 294/300\n",
      "30/30 [==============================] - 0s 931us/step - loss: 13104549.0000 - val_loss: 15329800.0000\n",
      "Epoch 295/300\n",
      "30/30 [==============================] - 0s 931us/step - loss: 13100779.0000 - val_loss: 15246346.0000\n",
      "Epoch 296/300\n",
      "30/30 [==============================] - 0s 931us/step - loss: 13096119.0000 - val_loss: 15250422.0000\n",
      "Epoch 297/300\n",
      "30/30 [==============================] - 0s 864us/step - loss: 13103160.0000 - val_loss: 15313451.0000\n",
      "Epoch 298/300\n",
      "30/30 [==============================] - 0s 898us/step - loss: 13096381.0000 - val_loss: 15251620.0000\n",
      "Epoch 299/300\n",
      "30/30 [==============================] - 0s 898us/step - loss: 13088754.0000 - val_loss: 15245837.0000\n",
      "Epoch 300/300\n",
      "30/30 [==============================] - 0s 898us/step - loss: 13070418.0000 - val_loss: 15283415.0000\n"
     ]
    },
    {
     "data": {
      "text/plain": [
       "<tensorflow.python.keras.callbacks.History at 0x284725df580>"
      ]
     },
     "execution_count": 30,
     "metadata": {},
     "output_type": "execute_result"
    }
   ],
   "source": [
    "model.fit(x = x_train, y = y_train, validation_data = (x_test, y_test), batch_size = 250, epochs = 300)"
   ]
  },
  {
   "cell_type": "code",
   "execution_count": 31,
   "id": "lasting-reference",
   "metadata": {},
   "outputs": [],
   "source": [
    "lossData = pd.DataFrame(model.history.history)"
   ]
  },
  {
   "cell_type": "code",
   "execution_count": 32,
   "id": "optimum-kidney",
   "metadata": {},
   "outputs": [
    {
     "data": {
      "text/html": [
       "<div>\n",
       "<style scoped>\n",
       "    .dataframe tbody tr th:only-of-type {\n",
       "        vertical-align: middle;\n",
       "    }\n",
       "\n",
       "    .dataframe tbody tr th {\n",
       "        vertical-align: top;\n",
       "    }\n",
       "\n",
       "    .dataframe thead th {\n",
       "        text-align: right;\n",
       "    }\n",
       "</style>\n",
       "<table border=\"1\" class=\"dataframe\">\n",
       "  <thead>\n",
       "    <tr style=\"text-align: right;\">\n",
       "      <th></th>\n",
       "      <th>loss</th>\n",
       "      <th>val_loss</th>\n",
       "    </tr>\n",
       "  </thead>\n",
       "  <tbody>\n",
       "    <tr>\n",
       "      <th>0</th>\n",
       "      <td>601903424.0</td>\n",
       "      <td>612128768.0</td>\n",
       "    </tr>\n",
       "    <tr>\n",
       "      <th>1</th>\n",
       "      <td>601882048.0</td>\n",
       "      <td>612094208.0</td>\n",
       "    </tr>\n",
       "    <tr>\n",
       "      <th>2</th>\n",
       "      <td>601823168.0</td>\n",
       "      <td>611996032.0</td>\n",
       "    </tr>\n",
       "    <tr>\n",
       "      <th>3</th>\n",
       "      <td>601658560.0</td>\n",
       "      <td>611727744.0</td>\n",
       "    </tr>\n",
       "    <tr>\n",
       "      <th>4</th>\n",
       "      <td>601229824.0</td>\n",
       "      <td>611055424.0</td>\n",
       "    </tr>\n",
       "  </tbody>\n",
       "</table>\n",
       "</div>"
      ],
      "text/plain": [
       "          loss     val_loss\n",
       "0  601903424.0  612128768.0\n",
       "1  601882048.0  612094208.0\n",
       "2  601823168.0  611996032.0\n",
       "3  601658560.0  611727744.0\n",
       "4  601229824.0  611055424.0"
      ]
     },
     "execution_count": 32,
     "metadata": {},
     "output_type": "execute_result"
    }
   ],
   "source": [
    "lossData.head()"
   ]
  },
  {
   "cell_type": "code",
   "execution_count": 33,
   "id": "pleasant-female",
   "metadata": {},
   "outputs": [
    {
     "data": {
      "text/plain": [
       "<AxesSubplot:>"
      ]
     },
     "execution_count": 33,
     "metadata": {},
     "output_type": "execute_result"
    },
    {
     "data": {
      "image/png": "[encoded data removed]",
      "text/plain": [
       "<Figure size 432x288 with 1 Axes>"
      ]
     },
     "metadata": {
      "needs_background": "light"
     },
     "output_type": "display_data"
    }
   ],
   "source": [
    "lossData.plot()"
   ]
  },
  {
   "cell_type": "code",
   "execution_count": 34,
   "id": "aerial-hostel",
   "metadata": {},
   "outputs": [],
   "source": [
    "from sklearn.metrics import mean_absolute_error, mean_squared_error"
   ]
  },
  {
   "cell_type": "code",
   "execution_count": 35,
   "id": "future-newspaper",
   "metadata": {},
   "outputs": [],
   "source": [
    "predictedArr = model.predict(x_test)"
   ]
  },
  {
   "cell_type": "code",
   "execution_count": 36,
   "id": "varied-prefix",
   "metadata": {},
   "outputs": [
    {
     "data": {
      "text/plain": [
       "array([[11999.685],\n",
       "       [17711.777],\n",
       "       [13170.821],\n",
       "       ...,\n",
       "       [18515.344],\n",
       "       [14431.075],\n",
       "       [13210.003]], dtype=float32)"
      ]
     },
     "execution_count": 36,
     "metadata": {},
     "output_type": "execute_result"
    }
   ],
   "source": [
    "predictedArr"
   ]
  },
  {
   "cell_type": "code",
   "execution_count": 37,
   "id": "english-comfort",
   "metadata": {},
   "outputs": [
    {
     "data": {
      "text/plain": [
       "2608.9260397744615"
      ]
     },
     "execution_count": 37,
     "metadata": {},
     "output_type": "execute_result"
    }
   ],
   "source": [
    "mean_absolute_error(y_test, predictedArr)"
   ]
  },
  {
   "cell_type": "code",
   "execution_count": 38,
   "id": "opponent-brisbane",
   "metadata": {},
   "outputs": [
    {
     "data": {
      "text/plain": [
       "[<matplotlib.lines.Line2D at 0x28473c5eac0>]"
      ]
     },
     "execution_count": 38,
     "metadata": {},
     "output_type": "execute_result"
    },
    {
     "data": {
      "image/png": "[encoded data removed]",
      "text/plain": [
       "<Figure size 432x288 with 1 Axes>"
      ]
     },
     "metadata": {
      "needs_background": "light"
     },
     "output_type": "display_data"
    }
   ],
   "source": [
    "plt.scatter(y_test, predictedArr)\n",
    "plt.plot(y_test, y_test,\"r-*\")"
   ]
  },
  {
   "cell_type": "code",
   "execution_count": 39,
   "id": "latter-effort",
   "metadata": {},
   "outputs": [],
   "source": [
    "realDf = pd.DataFrame(y_test, columns = [\"Real Y\"])"
   ]
  },
  {
   "cell_type": "code",
   "execution_count": 40,
   "id": "scheduled-hygiene",
   "metadata": {},
   "outputs": [
    {
     "data": {
      "text/html": [
       "<div>\n",
       "<style scoped>\n",
       "    .dataframe tbody tr th:only-of-type {\n",
       "        vertical-align: middle;\n",
       "    }\n",
       "\n",
       "    .dataframe tbody tr th {\n",
       "        vertical-align: top;\n",
       "    }\n",
       "\n",
       "    .dataframe thead th {\n",
       "        text-align: right;\n",
       "    }\n",
       "</style>\n",
       "<table border=\"1\" class=\"dataframe\">\n",
       "  <thead>\n",
       "    <tr style=\"text-align: right;\">\n",
       "      <th></th>\n",
       "      <th>Real Y</th>\n",
       "    </tr>\n",
       "  </thead>\n",
       "  <tbody>\n",
       "    <tr>\n",
       "      <th>0</th>\n",
       "      <td>11000</td>\n",
       "    </tr>\n",
       "    <tr>\n",
       "      <th>1</th>\n",
       "      <td>20995</td>\n",
       "    </tr>\n",
       "    <tr>\n",
       "      <th>2</th>\n",
       "      <td>11000</td>\n",
       "    </tr>\n",
       "    <tr>\n",
       "      <th>3</th>\n",
       "      <td>36950</td>\n",
       "    </tr>\n",
       "    <tr>\n",
       "      <th>4</th>\n",
       "      <td>23439</td>\n",
       "    </tr>\n",
       "    <tr>\n",
       "      <th>...</th>\n",
       "      <td>...</td>\n",
       "    </tr>\n",
       "    <tr>\n",
       "      <th>3169</th>\n",
       "      <td>31720</td>\n",
       "    </tr>\n",
       "    <tr>\n",
       "      <th>3170</th>\n",
       "      <td>10485</td>\n",
       "    </tr>\n",
       "    <tr>\n",
       "      <th>3171</th>\n",
       "      <td>20498</td>\n",
       "    </tr>\n",
       "    <tr>\n",
       "      <th>3172</th>\n",
       "      <td>14699</td>\n",
       "    </tr>\n",
       "    <tr>\n",
       "      <th>3173</th>\n",
       "      <td>10291</td>\n",
       "    </tr>\n",
       "  </tbody>\n",
       "</table>\n",
       "<p>3174 rows × 1 columns</p>\n",
       "</div>"
      ],
      "text/plain": [
       "      Real Y\n",
       "0      11000\n",
       "1      20995\n",
       "2      11000\n",
       "3      36950\n",
       "4      23439\n",
       "...      ...\n",
       "3169   31720\n",
       "3170   10485\n",
       "3171   20498\n",
       "3172   14699\n",
       "3173   10291\n",
       "\n",
       "[3174 rows x 1 columns]"
      ]
     },
     "execution_count": 40,
     "metadata": {},
     "output_type": "execute_result"
    }
   ],
   "source": [
    "realDf"
   ]
  },
  {
   "cell_type": "code",
   "execution_count": 41,
   "id": "likely-magnitude",
   "metadata": {},
   "outputs": [],
   "source": [
    "predictedArr = pd.Series(predictedArr.reshape(3174,))"
   ]
  },
  {
   "cell_type": "code",
   "execution_count": 42,
   "id": "funny-chart",
   "metadata": {},
   "outputs": [
    {
     "data": {
      "text/plain": [
       "0       11999.684570\n",
       "1       17711.777344\n",
       "2       13170.821289\n",
       "3       28334.695312\n",
       "4       25417.623047\n",
       "            ...     \n",
       "3169    26051.279297\n",
       "3170    11097.031250\n",
       "3171    18515.343750\n",
       "3172    14431.075195\n",
       "3173    13210.002930\n",
       "Length: 3174, dtype: float32"
      ]
     },
     "execution_count": 42,
     "metadata": {},
     "output_type": "execute_result"
    }
   ],
   "source": [
    "predictedArr"
   ]
  },
  {
   "cell_type": "code",
   "execution_count": 43,
   "id": "aggregate-hacker",
   "metadata": {},
   "outputs": [],
   "source": [
    "predictedDf = pd.concat([realDf, predictedArr], axis = 1)"
   ]
  },
  {
   "cell_type": "code",
   "execution_count": 44,
   "id": "sporting-working",
   "metadata": {},
   "outputs": [],
   "source": [
    "predictedDf.columns = [\"Real Price\", \"Predicted Price\"]"
   ]
  },
  {
   "cell_type": "code",
   "execution_count": 45,
   "id": "oriental-computer",
   "metadata": {},
   "outputs": [
    {
     "data": {
      "text/html": [
       "<div>\n",
       "<style scoped>\n",
       "    .dataframe tbody tr th:only-of-type {\n",
       "        vertical-align: middle;\n",
       "    }\n",
       "\n",
       "    .dataframe tbody tr th {\n",
       "        vertical-align: top;\n",
       "    }\n",
       "\n",
       "    .dataframe thead th {\n",
       "        text-align: right;\n",
       "    }\n",
       "</style>\n",
       "<table border=\"1\" class=\"dataframe\">\n",
       "  <thead>\n",
       "    <tr style=\"text-align: right;\">\n",
       "      <th></th>\n",
       "      <th>Real Price</th>\n",
       "      <th>Predicted Price</th>\n",
       "    </tr>\n",
       "  </thead>\n",
       "  <tbody>\n",
       "    <tr>\n",
       "      <th>0</th>\n",
       "      <td>11000</td>\n",
       "      <td>11999.684570</td>\n",
       "    </tr>\n",
       "    <tr>\n",
       "      <th>1</th>\n",
       "      <td>20995</td>\n",
       "      <td>17711.777344</td>\n",
       "    </tr>\n",
       "    <tr>\n",
       "      <th>2</th>\n",
       "      <td>11000</td>\n",
       "      <td>13170.821289</td>\n",
       "    </tr>\n",
       "    <tr>\n",
       "      <th>3</th>\n",
       "      <td>36950</td>\n",
       "      <td>28334.695312</td>\n",
       "    </tr>\n",
       "    <tr>\n",
       "      <th>4</th>\n",
       "      <td>23439</td>\n",
       "      <td>25417.623047</td>\n",
       "    </tr>\n",
       "    <tr>\n",
       "      <th>...</th>\n",
       "      <td>...</td>\n",
       "      <td>...</td>\n",
       "    </tr>\n",
       "    <tr>\n",
       "      <th>3169</th>\n",
       "      <td>31720</td>\n",
       "      <td>26051.279297</td>\n",
       "    </tr>\n",
       "    <tr>\n",
       "      <th>3170</th>\n",
       "      <td>10485</td>\n",
       "      <td>11097.031250</td>\n",
       "    </tr>\n",
       "    <tr>\n",
       "      <th>3171</th>\n",
       "      <td>20498</td>\n",
       "      <td>18515.343750</td>\n",
       "    </tr>\n",
       "    <tr>\n",
       "      <th>3172</th>\n",
       "      <td>14699</td>\n",
       "      <td>14431.075195</td>\n",
       "    </tr>\n",
       "    <tr>\n",
       "      <th>3173</th>\n",
       "      <td>10291</td>\n",
       "      <td>13210.002930</td>\n",
       "    </tr>\n",
       "  </tbody>\n",
       "</table>\n",
       "<p>3174 rows × 2 columns</p>\n",
       "</div>"
      ],
      "text/plain": [
       "      Real Price  Predicted Price\n",
       "0          11000     11999.684570\n",
       "1          20995     17711.777344\n",
       "2          11000     13170.821289\n",
       "3          36950     28334.695312\n",
       "4          23439     25417.623047\n",
       "...          ...              ...\n",
       "3169       31720     26051.279297\n",
       "3170       10485     11097.031250\n",
       "3171       20498     18515.343750\n",
       "3172       14699     14431.075195\n",
       "3173       10291     13210.002930\n",
       "\n",
       "[3174 rows x 2 columns]"
      ]
     },
     "execution_count": 45,
     "metadata": {},
     "output_type": "execute_result"
    }
   ],
   "source": [
    "predictedDf"
   ]
  },
  {
   "cell_type": "code",
   "execution_count": 46,
   "id": "multiple-philip",
   "metadata": {},
   "outputs": [],
   "source": [
    "predictedDf.to_excel(\"predictedPrice.xlsx\")"
   ]
  },
  {
   "cell_type": "code",
   "execution_count": null,
   "id": "athletic-judges",
   "metadata": {},
   "outputs": [],
   "source": []
  }
 ],
 "metadata": {
  "kernelspec": {
   "display_name": "Python 3",
   "language": "python",
   "name": "python3"
  },
  "language_info": {
   "codemirror_mode": {
    "name": "ipython",
    "version": 3
   },
   "file_extension": ".py",
   "mimetype": "text/x-python",
   "name": "python",
   "nbconvert_exporter": "python",
   "pygments_lexer": "ipython3",
   "version": "3.8.5"
  }
 },
 "nbformat": 4,
 "nbformat_minor": 5
}
